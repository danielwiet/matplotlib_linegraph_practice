{
 "cells": [
  {
   "cell_type": "markdown",
   "metadata": {},
   "source": [
    "# Matplotlib line graph practice"
   ]
  },
  {
   "cell_type": "markdown",
   "metadata": {},
   "source": [
    "### Creating subplots, modifying labels, inserting legends and the works"
   ]
  },
  {
   "cell_type": "code",
   "execution_count": 1,
   "metadata": {},
   "outputs": [],
   "source": [
    "from matplotlib import pyplot as plt\n",
    "\n",
    "months = [\"Jan\", \"Feb\", \"Mar\", \"Apr\", \"May\", \"Jun\", \"Jul\", \"Aug\", \"Sep\", \"Oct\", \"Nov\", \"Dec\"]\n",
    "\n",
    "visits_per_month = [9695, 7909, 10831, 12942, 12495, 16794, 14161, 12762, 12777, 12439, 10309, 8724]\n",
    "\n",
    "# numbers of limes of different species sold each month\n",
    "key_limes_per_month = [92.0, 109.0, 124.0, 70.0, 101.0, 79.0, 106.0, 101.0, 103.0, 90.0, 102.0, 106.0]\n",
    "persian_limes_per_month = [67.0, 51.0, 57.0, 54.0, 83.0, 90.0, 52.0, 63.0, 51.0, 44.0, 64.0, 78.0]\n",
    "blood_limes_per_month = [75.0, 75.0, 76.0, 71.0, 74.0, 77.0, 69.0, 80.0, 63.0, 69.0, 73.0, 82.0]"
   ]
  },
  {
   "cell_type": "markdown",
   "metadata": {},
   "source": [
    "1.\n",
    "Add import codecademylib to the top of script.py. This will allow for your plots to render in our browser.\n",
    "\n",
    "2.\n",
    "We have provided some data in different lists in script.py. Look through these lists and try to understand what each one represents.\n",
    "\n",
    "3.\n",
    "Create a figure of width 12 and height 8.\n",
    "\n",
    "\n",
    "Stuck? Get a hint\n",
    "4.\n",
    "We are going to make two charts in one figure, laid out side-by-side. In other words, the figure will have one row and two columns, like this:\n",
    "\n",
    "subplots\n",
    "\n",
    "Write the command to create the left subplot (the one that would correspond to the plot with a star in our example figure). Save this subplot in a variable called ax1.\n",
    "\n",
    "\n",
    "Stuck? Get a hint\n",
    "5.\n",
    "Write the command to create the right subplot (the one that would correspond to the plot with a square in our example figure).\n",
    "\n",
    "Save this subplot in a variable called ax2.\n",
    "\n",
    "Page visits over time\n",
    "6.\n",
    "In the left subplot, we are going to plot the total page visits over the past year as a line.\n",
    "\n",
    "First, let’s create the list of x-values, which is range(len(months)). Store this in a variable called x_values.\n",
    "\n",
    "Make sure this happens after the line where you created ax1, but before the line where you’ve created ax2, so that the plot goes in the subplot on the left.\n",
    "\n",
    "7.\n",
    "Plot the total page visits against these x_values as a line.\n",
    "\n",
    "8.\n",
    "Give the line markers that will help show each month as a distinct value.\n",
    "\n",
    "\n",
    "Stuck? Get a hint\n",
    "9.\n",
    "Label the x-axis and y-axis with descriptive titles of what they measure.\n",
    "\n",
    "\n",
    "Stuck? Get a hint\n",
    "10.\n",
    "Set the x-axis ticks to be the x_values.\n",
    "\n",
    "\n",
    "Stuck? Get a hint\n",
    "11.\n",
    "Label the x-axis tick labels to be the names stored in the months list.\n",
    "\n",
    "\n",
    "Stuck? Get a hint\n",
    "Plotting multiple lime species\n",
    "12.\n",
    "In the subplot on the right, we are going to plot three lines on the same set of axes. The x-values for all three lines will correspond to the months, so we can use the list of x_values we used for the last plot.\n",
    "\n",
    "On one plot, create the three lines:\n",
    "\n",
    "number of key limes sold vs x_values\n",
    "number of Persian limes sold vs x_values\n",
    "number of blood limes sold vs x_values\n",
    "Make sure this happens after the line where you created ax2, so that it goes in the subplot on the right.\n",
    "\n",
    "13.\n",
    "Give each line a specific color of your choosing.\n",
    "\n",
    "14.\n",
    "Add a legend to differentiate the lines, labeling each lime species.\n",
    "\n",
    "15.\n",
    "Set the x-axis ticks to be the x_values, and the tick labels to be the months list.\n",
    "\n",
    "Labeling and saving\n",
    "16.\n",
    "Add a title to each of the two plots you’ve created, and adjust the margins to make the text you’ve added look better.\n",
    "\n",
    "17.\n",
    "Now, save your figure as a png with a descriptive file name."
   ]
  }
 ],
 "metadata": {
  "kernelspec": {
   "display_name": "Python 3",
   "language": "python",
   "name": "python3"
  },
  "language_info": {
   "codemirror_mode": {
    "name": "ipython",
    "version": 3
   },
   "file_extension": ".py",
   "mimetype": "text/x-python",
   "name": "python",
   "nbconvert_exporter": "python",
   "pygments_lexer": "ipython3",
   "version": "3.6.9"
  }
 },
 "nbformat": 4,
 "nbformat_minor": 2
}
